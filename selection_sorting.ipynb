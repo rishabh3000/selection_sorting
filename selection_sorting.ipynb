{
 "cells": [
  {
   "cell_type": "code",
   "execution_count": 8,
   "metadata": {},
   "outputs": [],
   "source": [
    "def slection_sort(arr):\n",
    "    for i in range(0,len(arr)-1):\n",
    "        minIndex = i\n",
    "        for j in range(i+1,len(arr)):\n",
    "            if(arr[j] < arr[minIndex]):\n",
    "                minIndex = j\n",
    "        arr[minIndex],arr[i]=arr[i],arr[minIndex]\n",
    "    print(arr)\n",
    "        "
   ]
  },
  {
   "cell_type": "code",
   "execution_count": 9,
   "metadata": {},
   "outputs": [
    {
     "name": "stdout",
     "output_type": "stream",
     "text": [
      "[1, 2, 3, 4, 5, 9]\n"
     ]
    }
   ],
   "source": [
    "arr=[2,5,3,4,9,1]\n",
    "slection_sort(arr)"
   ]
  },
  {
   "cell_type": "code",
   "execution_count": null,
   "metadata": {},
   "outputs": [],
   "source": []
  }
 ],
 "metadata": {
  "kernelspec": {
   "display_name": "Python 3",
   "language": "python",
   "name": "python3"
  },
  "language_info": {
   "codemirror_mode": {
    "name": "ipython",
    "version": 3
   },
   "file_extension": ".py",
   "mimetype": "text/x-python",
   "name": "python",
   "nbconvert_exporter": "python",
   "pygments_lexer": "ipython3",
   "version": "3.8.3"
  }
 },
 "nbformat": 4,
 "nbformat_minor": 4
}
